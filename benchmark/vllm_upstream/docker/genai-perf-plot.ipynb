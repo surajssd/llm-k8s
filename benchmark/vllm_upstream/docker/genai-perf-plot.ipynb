{
 "cells": [
  {
   "cell_type": "code",
   "execution_count": null,
   "id": "c89053bf",
   "metadata": {},
   "outputs": [],
   "source": [
    "import sys\n",
    "\n",
    "# Add parent directory to path to import shared utilities\n",
    "sys.path.insert(0, '..')\n",
    "\n",
    "# Import shared utilities\n",
    "from benchmark_utils import *\n",
    "\n",
    "# Configuration specific to this notebook\n",
    "#\n",
    "# Root directory where the benchmarking results are stored\n",
    "root_dir = \".\"\n",
    "\n",
    "# Find the folders with this prefix in the root directory, e.g.: meta-llama_Llama-3.3-70B-Instruct-openai-chat-concurrency\n",
    "directory_prefix = \"\"\n",
    "\n",
    "# Cost of the VM instance used for e.g.: https://instances.vantage.sh/azure/vm/nc96ads-v4 14.692\n",
    "hourly_cost = 0.0\n",
    "\n",
    "# Using 100% of the GPUs on the node then the value is 1.0, if using more than one machine then increase value accordingly.\n",
    "percent_gpu_used = 1\n",
    "\n",
    "# This prefix shows up on each plot's title.\n",
    "prefix = \"llmd: (prefill + decode) 4 GPUs\"\n",
    "\n",
    "# Concurrency values to use to plot the data, the default concurrencies can be used from the variable DEFAULT_CONCURRENCIES\n",
    "# DEFAULT_CONCURRENCIES = [1, 2, 5, 10, 50, 100, 250]\n",
    "concurrencies = [1, 2, 5, 10]\n",
    "\n",
    "# Load data using shared function\n",
    "all_data = load_all_data(\n",
    "    DEFAULT_INPUT_OUTPUT,\n",
    "    concurrencies,\n",
    "    root_dir,\n",
    "    directory_prefix,\n",
    "    hourly_cost,\n",
    "    percent_gpu_used\n",
    ")\n",
    "\n",
    "plot_everything(all_data, prefix)"
   ]
  },
  {
   "cell_type": "code",
   "execution_count": null,
   "id": "bc99d83f",
   "metadata": {},
   "outputs": [],
   "source": []
  }
 ],
 "metadata": {
  "kernelspec": {
   "display_name": "venv",
   "language": "python",
   "name": "python3"
  },
  "language_info": {
   "codemirror_mode": {
    "name": "ipython",
    "version": 3
   },
   "file_extension": ".py",
   "mimetype": "text/x-python",
   "name": "python",
   "nbconvert_exporter": "python",
   "pygments_lexer": "ipython3",
   "version": "3.13.5"
  }
 },
 "nbformat": 4,
 "nbformat_minor": 5
}
